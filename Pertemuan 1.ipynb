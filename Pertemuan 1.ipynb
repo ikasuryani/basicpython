{
  "nbformat": 4,
  "nbformat_minor": 0,
  "metadata": {
    "colab": {
      "name": "Untitled0.ipynb",
      "provenance": [],
      "authorship_tag": "ABX9TyM51bve1CMaQGIV/qBNwqwa",
      "include_colab_link": true
    },
    "kernelspec": {
      "name": "python3",
      "display_name": "Python 3"
    }
  },
  "cells": [
    {
      "cell_type": "markdown",
      "metadata": {
        "id": "view-in-github",
        "colab_type": "text"
      },
      "source": [
        "<a href=\"https://colab.research.google.com/github/ikasuryani/basicpython_ika/blob/main/Pertemuan%201.ipynb\" target=\"_parent\"><img src=\"https://colab.research.google.com/assets/colab-badge.svg\" alt=\"Open In Colab\"/></a>"
      ]
    },
    {
      "cell_type": "code",
      "metadata": {
        "colab": {
          "base_uri": "https://localhost:8080/"
        },
        "id": "W_jUQt9Eyy7W",
        "outputId": "d342821a-71d2-414f-d17e-0faaf9da38d1"
      },
      "source": [
        "print(\"Hello World\")"
      ],
      "execution_count": 1,
      "outputs": [
        {
          "output_type": "stream",
          "text": [
            "Hello World\n"
          ],
          "name": "stdout"
        }
      ]
    },
    {
      "cell_type": "code",
      "metadata": {
        "id": "Uv6IAUrX2ez0"
      },
      "source": [
        "#komentar di Python"
      ],
      "execution_count": null,
      "outputs": []
    },
    {
      "cell_type": "code",
      "metadata": {
        "id": "dznAj29o2wAA",
        "outputId": "f6524d3c-afe8-419d-ef12-e89307e1663a",
        "colab": {
          "base_uri": "https://localhost:8080/"
        }
      },
      "source": [
        "sapa = \"Selamat Pagi\"\r\n",
        "sapa1 = \"Selamat Siang\"\r\n",
        "sapa_dua = \"Selamat Siang\"\r\n",
        "print(sapa, sapa1, sapa_dua, sep=\", \")"
      ],
      "execution_count": 3,
      "outputs": [
        {
          "output_type": "stream",
          "text": [
            "Selamat Pagi, Selamat Siang, Selamat Siang\n"
          ],
          "name": "stdout"
        }
      ]
    },
    {
      "cell_type": "code",
      "metadata": {
        "id": "Gm2Y-f663pLX",
        "outputId": "86524d17-f666-4658-8e54-30b441771e0e",
        "colab": {
          "base_uri": "https://localhost:8080/"
        }
      },
      "source": [
        "var_string = \"Ayok belajar AI\"\r\n",
        "print(var_string)\r\n",
        "print(type(var_string))"
      ],
      "execution_count": 4,
      "outputs": [
        {
          "output_type": "stream",
          "text": [
            "Ayok belajar AI\n",
            "<class 'str'>\n"
          ],
          "name": "stdout"
        }
      ]
    },
    {
      "cell_type": "code",
      "metadata": {
        "id": "GtQFxocC4eLy",
        "outputId": "4d2bde8a-2012-4e1a-d411-45bf337fc5f7",
        "colab": {
          "base_uri": "https://localhost:8080/"
        }
      },
      "source": [
        "var_integer = 99\r\n",
        "print(var_integer)\r\n",
        "print(type(var_integer))"
      ],
      "execution_count": 5,
      "outputs": [
        {
          "output_type": "stream",
          "text": [
            "99\n",
            "<class 'int'>\n"
          ],
          "name": "stdout"
        }
      ]
    },
    {
      "cell_type": "code",
      "metadata": {
        "id": "l1tyf_Bw4dr_",
        "outputId": "30722e28-5d4d-41e4-a03c-724bdc56c4a2",
        "colab": {
          "base_uri": "https://localhost:8080/"
        }
      },
      "source": [
        "var_float = 10.7\r\n",
        "print(var_float)\r\n",
        "print(type(var_float))"
      ],
      "execution_count": 7,
      "outputs": [
        {
          "output_type": "stream",
          "text": [
            "10.7\n",
            "<class 'float'>\n"
          ],
          "name": "stdout"
        }
      ]
    },
    {
      "cell_type": "code",
      "metadata": {
        "id": "m3MQCCHY5coI",
        "outputId": "803cb31c-51c3-4ddd-dd19-d8fb293a1382",
        "colab": {
          "base_uri": "https://localhost:8080/"
        }
      },
      "source": [
        "print(var_string, var_integer, var_float, sep=\", \")"
      ],
      "execution_count": 8,
      "outputs": [
        {
          "output_type": "stream",
          "text": [
            "Ayok belajar AI, 99, 10.7\n"
          ],
          "name": "stdout"
        }
      ]
    },
    {
      "cell_type": "code",
      "metadata": {
        "id": "3smM-2Ii5kL_",
        "outputId": "90d8511a-810d-47f5-cc22-f80293765e85",
        "colab": {
          "base_uri": "https://localhost:8080/"
        }
      },
      "source": [
        "var_boolean = True\r\n",
        "if var_boolean:\r\n",
        "  print(\"Nilainya True\")\r\n",
        "print(type(var_boolean))"
      ],
      "execution_count": 9,
      "outputs": [
        {
          "output_type": "stream",
          "text": [
            "Nilainya True\n",
            "<class 'bool'>\n"
          ],
          "name": "stdout"
        }
      ]
    },
    {
      "cell_type": "markdown",
      "metadata": {
        "id": "gXXCuRnRDLSk"
      },
      "source": [
        "Operasi String"
      ]
    },
    {
      "cell_type": "code",
      "metadata": {
        "id": "UzUs4rOL_dEU",
        "outputId": "29b45073-2ba7-4f4e-fe06-c62b2ae0c2b2",
        "colab": {
          "base_uri": "https://localhost:8080/"
        }
      },
      "source": [
        "greeting = \"halo \"\r\n",
        "print(greeting.strip())\r\n",
        "greeting2 = \"hai\"\r\n",
        "print(greeting2.upper())"
      ],
      "execution_count": 12,
      "outputs": [
        {
          "output_type": "stream",
          "text": [
            "halo\n",
            "HAI\n"
          ],
          "name": "stdout"
        }
      ]
    },
    {
      "cell_type": "code",
      "metadata": {
        "id": "B7aCDoE-ESOM",
        "outputId": "9836444a-4bca-45c5-8444-3bf8a99c9e87",
        "colab": {
          "base_uri": "https://localhost:8080/"
        }
      },
      "source": [
        "tagline = \"Ayo belajar AI\"\r\n",
        "print(tagline.replace(\"AI\", \"ML\"))"
      ],
      "execution_count": 13,
      "outputs": [
        {
          "output_type": "stream",
          "text": [
            "Ayo belajar ML\n"
          ],
          "name": "stdout"
        }
      ]
    }
  ]
}